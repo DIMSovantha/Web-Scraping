{
 "cells": [
  {
   "cell_type": "markdown",
   "id": "a64735bb-ea7d-46cf-bf60-10a67b3b1522",
   "metadata": {},
   "source": [
    "# Modern Web Scraping in Jupiter NoteBook\n",
    "This notebook scrapes quotes from quotes.toscrape.com, handling both static and JavaScript-rendered content."
   ]
  },
  {
   "cell_type": "code",
   "execution_count": 1,
   "id": "e57846e3-5509-48e7-a6a5-4298c45c6e46",
   "metadata": {},
   "outputs": [
    {
     "name": "stdout",
     "output_type": "stream",
     "text": [
      "Requirement already satisfied: requests in /opt/anaconda3/lib/python3.12/site-packages (2.32.3)\n",
      "Requirement already satisfied: beautifulsoup4 in /opt/anaconda3/lib/python3.12/site-packages (4.12.3)\n",
      "Requirement already satisfied: playwright in /opt/anaconda3/lib/python3.12/site-packages (1.53.0)\n",
      "Requirement already satisfied: charset-normalizer<4,>=2 in /opt/anaconda3/lib/python3.12/site-packages (from requests) (3.3.2)\n",
      "Requirement already satisfied: idna<4,>=2.5 in /opt/anaconda3/lib/python3.12/site-packages (from requests) (3.7)\n",
      "Requirement already satisfied: urllib3<3,>=1.21.1 in /opt/anaconda3/lib/python3.12/site-packages (from requests) (2.2.3)\n",
      "Requirement already satisfied: certifi>=2017.4.17 in /opt/anaconda3/lib/python3.12/site-packages (from requests) (2025.4.26)\n",
      "Requirement already satisfied: soupsieve>1.2 in /opt/anaconda3/lib/python3.12/site-packages (from beautifulsoup4) (2.5)\n",
      "Requirement already satisfied: pyee<14,>=13 in /opt/anaconda3/lib/python3.12/site-packages (from playwright) (13.0.0)\n",
      "Requirement already satisfied: greenlet<4.0.0,>=3.1.1 in /opt/anaconda3/lib/python3.12/site-packages (from playwright) (3.2.3)\n",
      "Requirement already satisfied: typing-extensions in /opt/anaconda3/lib/python3.12/site-packages (from pyee<14,>=13->playwright) (4.14.0)\n",
      "Requirement already satisfied: pandas in /opt/anaconda3/lib/python3.12/site-packages (2.2.2)\n",
      "Requirement already satisfied: openpyxl in /opt/anaconda3/lib/python3.12/site-packages (3.1.5)\n",
      "Requirement already satisfied: numpy>=1.26.0 in /opt/anaconda3/lib/python3.12/site-packages (from pandas) (1.26.4)\n",
      "Requirement already satisfied: python-dateutil>=2.8.2 in /opt/anaconda3/lib/python3.12/site-packages (from pandas) (2.9.0.post0)\n",
      "Requirement already satisfied: pytz>=2020.1 in /opt/anaconda3/lib/python3.12/site-packages (from pandas) (2024.1)\n",
      "Requirement already satisfied: tzdata>=2022.7 in /opt/anaconda3/lib/python3.12/site-packages (from pandas) (2023.3)\n",
      "Requirement already satisfied: et-xmlfile in /opt/anaconda3/lib/python3.12/site-packages (from openpyxl) (1.1.0)\n",
      "Requirement already satisfied: six>=1.5 in /opt/anaconda3/lib/python3.12/site-packages (from python-dateutil>=2.8.2->pandas) (1.16.0)\n"
     ]
    }
   ],
   "source": [
    "# Install required packages (run once)\n",
    "!pip install requests beautifulsoup4 playwright\n",
    "!python3 -m playwright install\n",
    "!pip install pandas openpyxl"
   ]
  },
  {
   "cell_type": "markdown",
   "id": "2b95d477-9c61-4cff-800f-ea2fdc98d0c9",
   "metadata": {},
   "source": [
    "# Import needed Libraries"
   ]
  },
  {
   "cell_type": "code",
   "execution_count": 2,
   "id": "e319fadb-2918-4502-90f9-fc873475da07",
   "metadata": {},
   "outputs": [],
   "source": [
    "import csv\n",
    "import time\n",
    "from typing import List, Dict\n",
    "import requests\n",
    "from bs4 import BeautifulSoup\n",
    "from playwright.sync_api import sync_playwright\n",
    "import pandas as pd"
   ]
  },
  {
   "cell_type": "markdown",
   "id": "30d10f94-4543-4fc0-89d9-7c675835b10f",
   "metadata": {},
   "source": [
    "# Static Scraping Function\n",
    "Uses requests + BeautifulSoup for faster scraping of static content"
   ]
  },
  {
   "cell_type": "code",
   "execution_count": 3,
   "id": "be100305-6403-471b-a480-7de22606588a",
   "metadata": {},
   "outputs": [],
   "source": [
    "def scrape_static_quote() -> List[Dict[str, str]]: \n",
    "    \"\"\" Scrape quotes from static HTML pages\"\"\"\n",
    "    base_url = \"https://quotes.toscrape.com\" #Change page as you want\n",
    "    quotes = []\n",
    "    page = 1\n",
    "    while True: \n",
    "        print(f\"Scaping static page {page}...\")\n",
    "        response = requests.get(f\"{base_url}/page/{page}/\")\n",
    "        if response.status_code != 200:\n",
    "            break\n",
    "\n",
    "        soup = BeautifulSoup(response.text, \"html.parser\")\n",
    "        quote_elements = soup.find_all(\"div\", class_ = \"quote\")\n",
    "\n",
    "        for quote in quote_elements: \n",
    "            text = quote.find(\"span\", class_ = \"text\").text\n",
    "            author = quote.find(\"small\", class_ = \"author\").text\n",
    "            tags = [tag.text for tag in quote.find_all(\"a\", class_ = \"tag\")]\n",
    "        \n",
    "            quotes.append({\n",
    "                \"text\" : text, \n",
    "                \"author\" : author,\n",
    "                \"tags\" : \",\".join(tags)\n",
    "            })\n",
    "\n",
    "        next_button = soup.find(\"li\", class_ = \"next\")\n",
    "        if not next_button:\n",
    "            break\n",
    "\n",
    "        page += 1\n",
    "        time.sleep\n",
    "\n",
    "    return quotes"
   ]
  },
  {
   "cell_type": "markdown",
   "id": "ce4abd7f-d9dc-4d89-b586-40102028965a",
   "metadata": {},
   "source": [
    "# Dynamic Scraping Function\n",
    "Uses Playwright for JavaScript-rendered content"
   ]
  },
  {
   "cell_type": "code",
   "execution_count": 4,
   "id": "a72b4d21-439f-427e-9e94-149fdc885a75",
   "metadata": {},
   "outputs": [],
   "source": [
    "def scrape_dynamic_quote() -> List[Dict[str, str]]:\n",
    "    \"\"\"Scrape quotes from JavaScript-rendered pages\"\"\"\n",
    "    quotes = []\n",
    "    with sync_playwright() as p: \n",
    "        browser = p.chromium.launch(headless = True)\n",
    "        page = browser.new_page()\n",
    "        page_num = 1\n",
    "\n",
    "        while True: \n",
    "            print(f\"Scraping dynamic page {page_num}...\")\n",
    "            page.goto(f\"https://quotes.toscrape.com/page/{page_num}\") #Change link to your need\n",
    "            page.wait_for_selector(\".quote\")\n",
    "\n",
    "            quote_elements = page.query_selector_all(\".quote\")\n",
    "            for quote in quote_elements:\n",
    "                text = quote.query_selector(\".text\").inner_text()\n",
    "                author = quote.query_selector(\".author\").inner_text()\n",
    "                tags = [tag.inner_text()\n",
    "                       for tag in quote.query_selector_all(\".tag\")]\n",
    "\n",
    "                quotes.append({\n",
    "                    \"text\" : text,\n",
    "                    \"author\" : author,\n",
    "                    \"tags\" : \",\".join(tags)\n",
    "                })\n",
    "\n",
    "            next_button = page.query_selector(\"li.next\")\n",
    "            if not next_button:\n",
    "                break\n",
    "\n",
    "            page_num += 1\n",
    "            time.sleep(1)\n",
    "\n",
    "        browser.close()\n",
    "        \n",
    "    return quotes"
   ]
  },
  {
   "cell_type": "markdown",
   "id": "d3af1d2e-551f-4ceb-badd-06faed283c66",
   "metadata": {},
   "source": [
    "# Save to CSV Function"
   ]
  },
  {
   "cell_type": "code",
   "execution_count": 18,
   "id": "96e09984-32f8-4e55-bc7f-1b70e4211c53",
   "metadata": {},
   "outputs": [],
   "source": [
    "def save_to_csv(quotes: List[Dict[str, str]], filename: str) -> None: \n",
    "    \"\"\"Save scraped quotes to a CSV file\"\"\"\n",
    "    with open(filename, \"w\", newline = \"\", encoding = \"utf-8\") as file:\n",
    "        writer = csv.DictWriter(file, fieldnames = [\"text\", \"author\", \"tags\"])\n",
    "        writer.writeheader()\n",
    "        writer.writerows(quotes)\n",
    "    print(f\"Successfully saved {len(quotes)} quotes to {filename}\")"
   ]
  },
  {
   "cell_type": "markdown",
   "id": "d96c16e7-58c1-448c-a2d5-69ed51e1da75",
   "metadata": {},
   "source": [
    "# Save to Excel Function"
   ]
  },
  {
   "cell_type": "code",
   "execution_count": 6,
   "id": "d8f089ff-bab5-4570-b7a7-290249756297",
   "metadata": {},
   "outputs": [],
   "source": [
    "def save_to_excel(quotes: List[Dict[str, str]], filename: str) -> None: \n",
    "    \"\"\"Save scraped quotes to an Excel (.xlsx) file\"\"\"\n",
    "    df = pd.DataFrame(quotes)\n",
    "    df.to_excel(filename, index = False)\n",
    "    print(f\"Successfully saved {len(quotes)} quotes to {filename}\")"
   ]
  },
  {
   "cell_type": "markdown",
   "id": "1c89a7e0-6f7c-48a1-8f49-b5967ef2bfa4",
   "metadata": {},
   "source": [
    "# Main Execution\n",
    "Tries static scraping first, falls back to dynamic if needed"
   ]
  },
  {
   "cell_type": "code",
   "execution_count": 20,
   "id": "8b8149f4-32d6-4c6a-ba33-68381291ae3c",
   "metadata": {},
   "outputs": [
    {
     "name": "stdout",
     "output_type": "stream",
     "text": [
      "Starting quote scraping...\n",
      "Attemping static scraping...\n",
      "Scaping static page 1...\n",
      "Scaping static page 2...\n",
      "Scaping static page 3...\n",
      "Scaping static page 4...\n",
      "Scaping static page 5...\n",
      "Scaping static page 6...\n",
      "Scaping static page 7...\n",
      "Scaping static page 8...\n",
      "Scaping static page 9...\n",
      "Scaping static page 10...\n",
      "Found 100 quotes via static scraping\n",
      "Successfully saved 100 quotes to quotes.csv\n",
      "Successfully saved 100 quotes to quotes.xlsx\n"
     ]
    }
   ],
   "source": [
    "print(\"Starting quote scraping...\")\n",
    "\n",
    "try: \n",
    "    print(\"Attemping static scraping...\")\n",
    "    quotes = scrape_static_quote()\n",
    "    print(f\"Found {len(quotes)} quotes via static scraping\")\n",
    "except Exception as e: \n",
    "    print(f\"Static Scraping failed: {e}\")\n",
    "    print(\"Falling back to dynamic scraping...\")\n",
    "    quotes = scrape_dynamic_quote()\n",
    "    print(f\"Found {len(quotes)} quotes via dynamic scraping\")\n",
    "\n",
    "if quotes: \n",
    "    save_to_csv(quotes, \"quotes.csv\")\n",
    "    save_to_excel(quotes, \"quotes.xlsx\")\n",
    "else: \n",
    "    print(\"No quotes were scraped\")"
   ]
  },
  {
   "cell_type": "markdown",
   "id": "d41e388c-4dbf-4a6f-8d51-c7e940d03a13",
   "metadata": {},
   "source": [
    "# Display Sample Results\n",
    "Show the first 5 quotes we scraped"
   ]
  },
  {
   "cell_type": "code",
   "execution_count": 22,
   "id": "abca37e4-e118-48ab-acb8-0fcfe25ead0c",
   "metadata": {
    "scrolled": true
   },
   "outputs": [
    {
     "name": "stdout",
     "output_type": "stream",
     "text": [
      "\n",
      "Simmple quotes: \n",
      "1. “The world as we have created it is a process of our thinking. It cannot be changed without changing our thinking.” - Albert Einstein\n",
      "    Tags: change,deep-thoughts,thinking,world\n",
      "\n",
      "2. “It is our choices, Harry, that show what we truly are, far more than our abilities.” - J.K. Rowling\n",
      "    Tags: abilities,choices\n",
      "\n",
      "3. “There are only two ways to live your life. One is as though nothing is a miracle. The other is as though everything is a miracle.” - Albert Einstein\n",
      "    Tags: inspirational,life,live,miracle,miracles\n",
      "\n",
      "4. “The person, be it gentleman or lady, who has not pleasure in a good novel, must be intolerably stupid.” - Jane Austen\n",
      "    Tags: aliteracy,books,classic,humor\n",
      "\n",
      "5. “Imperfection is beauty, madness is genius and it's better to be absolutely ridiculous than absolutely boring.” - Marilyn Monroe\n",
      "    Tags: be-yourself,inspirational\n",
      "\n"
     ]
    }
   ],
   "source": [
    "if quotes: \n",
    "    print(\"\\nSimmple quotes: \")\n",
    "    for i, quote in enumerate(quotes[:5], 1): \n",
    "        print(f\"{i}. {quote['text']} - {quote[\"author\"]}\")\n",
    "        print(f\"    Tags: {quote[\"tags\"]}\\n\")\n",
    "else:\n",
    "    print(\"No quotes to display\")"
   ]
  },
  {
   "cell_type": "code",
   "execution_count": null,
   "id": "a36acf3d-0786-49d8-a19f-4771b9ecebf3",
   "metadata": {},
   "outputs": [],
   "source": []
  }
 ],
 "metadata": {
  "kernelspec": {
   "display_name": "Python [conda env:base] *",
   "language": "python",
   "name": "conda-base-py"
  },
  "language_info": {
   "codemirror_mode": {
    "name": "ipython",
    "version": 3
   },
   "file_extension": ".py",
   "mimetype": "text/x-python",
   "name": "python",
   "nbconvert_exporter": "python",
   "pygments_lexer": "ipython3",
   "version": "3.12.7"
  }
 },
 "nbformat": 4,
 "nbformat_minor": 5
}
